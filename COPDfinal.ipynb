{
 "cells": [
  {
   "cell_type": "code",
   "execution_count": 49,
   "id": "121cba11",
   "metadata": {},
   "outputs": [],
   "source": [
    "import numpy as np\n",
    "import pandas as pd\n",
    "import matplotlib.pyplot as plt\n",
    "import seaborn as sns"
   ]
  },
  {
   "cell_type": "code",
   "execution_count": 50,
   "id": "0facfa14",
   "metadata": {},
   "outputs": [],
   "source": [
    "df1 = pd.read_csv('C:/Users/trisha ghali/OneDrive/Desktop/college/Analog_data.csv')"
   ]
  },
  {
   "cell_type": "code",
   "execution_count": 51,
   "id": "7583b913",
   "metadata": {},
   "outputs": [
    {
     "data": {
      "text/html": [
       "<div>\n",
       "<style scoped>\n",
       "    .dataframe tbody tr th:only-of-type {\n",
       "        vertical-align: middle;\n",
       "    }\n",
       "\n",
       "    .dataframe tbody tr th {\n",
       "        vertical-align: top;\n",
       "    }\n",
       "\n",
       "    .dataframe thead th {\n",
       "        text-align: right;\n",
       "    }\n",
       "</style>\n",
       "<table border=\"1\" class=\"dataframe\">\n",
       "  <thead>\n",
       "    <tr style=\"text-align: right;\">\n",
       "      <th></th>\n",
       "      <th>ID</th>\n",
       "      <th>Diagnosis</th>\n",
       "      <th>Img-Min</th>\n",
       "      <th>Img-Avg</th>\n",
       "      <th>Real-Min</th>\n",
       "      <th>Real-Avg</th>\n",
       "      <th>Gender</th>\n",
       "      <th>Age</th>\n",
       "      <th>Smoking</th>\n",
       "    </tr>\n",
       "  </thead>\n",
       "  <tbody>\n",
       "    <tr>\n",
       "      <th>0</th>\n",
       "      <td>301-4</td>\n",
       "      <td>1</td>\n",
       "      <td>-320.61</td>\n",
       "      <td>-300.563531</td>\n",
       "      <td>-495.26</td>\n",
       "      <td>-464.171991</td>\n",
       "      <td>1</td>\n",
       "      <td>77</td>\n",
       "      <td>2</td>\n",
       "    </tr>\n",
       "    <tr>\n",
       "      <th>1</th>\n",
       "      <td>302-3</td>\n",
       "      <td>1</td>\n",
       "      <td>-325.39</td>\n",
       "      <td>-314.750360</td>\n",
       "      <td>-473.73</td>\n",
       "      <td>-469.263140</td>\n",
       "      <td>0</td>\n",
       "      <td>72</td>\n",
       "      <td>2</td>\n",
       "    </tr>\n",
       "    <tr>\n",
       "      <th>2</th>\n",
       "      <td>303-3</td>\n",
       "      <td>1</td>\n",
       "      <td>-323.00</td>\n",
       "      <td>-317.436056</td>\n",
       "      <td>-476.12</td>\n",
       "      <td>-471.897667</td>\n",
       "      <td>1</td>\n",
       "      <td>73</td>\n",
       "      <td>3</td>\n",
       "    </tr>\n",
       "    <tr>\n",
       "      <th>3</th>\n",
       "      <td>304-4</td>\n",
       "      <td>1</td>\n",
       "      <td>-327.78</td>\n",
       "      <td>-317.399670</td>\n",
       "      <td>-473.73</td>\n",
       "      <td>-468.856388</td>\n",
       "      <td>1</td>\n",
       "      <td>76</td>\n",
       "      <td>2</td>\n",
       "    </tr>\n",
       "    <tr>\n",
       "      <th>4</th>\n",
       "      <td>305-4</td>\n",
       "      <td>1</td>\n",
       "      <td>-325.39</td>\n",
       "      <td>-316.155785</td>\n",
       "      <td>-478.52</td>\n",
       "      <td>-472.869783</td>\n",
       "      <td>0</td>\n",
       "      <td>65</td>\n",
       "      <td>2</td>\n",
       "    </tr>\n",
       "  </tbody>\n",
       "</table>\n",
       "</div>"
      ],
      "text/plain": [
       "      ID  Diagnosis  Img-Min     Img-Avg  Real-Min    Real-Avg  Gender  Age  \\\n",
       "0  301-4          1  -320.61 -300.563531   -495.26 -464.171991       1   77   \n",
       "1  302-3          1  -325.39 -314.750360   -473.73 -469.263140       0   72   \n",
       "2  303-3          1  -323.00 -317.436056   -476.12 -471.897667       1   73   \n",
       "3  304-4          1  -327.78 -317.399670   -473.73 -468.856388       1   76   \n",
       "4  305-4          1  -325.39 -316.155785   -478.52 -472.869783       0   65   \n",
       "\n",
       "   Smoking  \n",
       "0        2  \n",
       "1        2  \n",
       "2        3  \n",
       "3        2  \n",
       "4        2  "
      ]
     },
     "execution_count": 51,
     "metadata": {},
     "output_type": "execute_result"
    }
   ],
   "source": [
    "df1.head()"
   ]
  },
  {
   "cell_type": "code",
   "execution_count": 52,
   "id": "bc2d355b",
   "metadata": {},
   "outputs": [],
   "source": [
    "df=df1.drop(columns=['ID'])"
   ]
  },
  {
   "cell_type": "code",
   "execution_count": 53,
   "id": "1473de4f",
   "metadata": {},
   "outputs": [
    {
     "data": {
      "text/html": [
       "<div>\n",
       "<style scoped>\n",
       "    .dataframe tbody tr th:only-of-type {\n",
       "        vertical-align: middle;\n",
       "    }\n",
       "\n",
       "    .dataframe tbody tr th {\n",
       "        vertical-align: top;\n",
       "    }\n",
       "\n",
       "    .dataframe thead th {\n",
       "        text-align: right;\n",
       "    }\n",
       "</style>\n",
       "<table border=\"1\" class=\"dataframe\">\n",
       "  <thead>\n",
       "    <tr style=\"text-align: right;\">\n",
       "      <th></th>\n",
       "      <th>Diagnosis</th>\n",
       "      <th>Img-Min</th>\n",
       "      <th>Img-Avg</th>\n",
       "      <th>Real-Min</th>\n",
       "      <th>Real-Avg</th>\n",
       "      <th>Gender</th>\n",
       "      <th>Age</th>\n",
       "      <th>Smoking</th>\n",
       "    </tr>\n",
       "  </thead>\n",
       "  <tbody>\n",
       "    <tr>\n",
       "      <th>0</th>\n",
       "      <td>1</td>\n",
       "      <td>-320.61</td>\n",
       "      <td>-300.563531</td>\n",
       "      <td>-495.26</td>\n",
       "      <td>-464.171991</td>\n",
       "      <td>1</td>\n",
       "      <td>77</td>\n",
       "      <td>2</td>\n",
       "    </tr>\n",
       "    <tr>\n",
       "      <th>1</th>\n",
       "      <td>1</td>\n",
       "      <td>-325.39</td>\n",
       "      <td>-314.750360</td>\n",
       "      <td>-473.73</td>\n",
       "      <td>-469.263140</td>\n",
       "      <td>0</td>\n",
       "      <td>72</td>\n",
       "      <td>2</td>\n",
       "    </tr>\n",
       "    <tr>\n",
       "      <th>2</th>\n",
       "      <td>1</td>\n",
       "      <td>-323.00</td>\n",
       "      <td>-317.436056</td>\n",
       "      <td>-476.12</td>\n",
       "      <td>-471.897667</td>\n",
       "      <td>1</td>\n",
       "      <td>73</td>\n",
       "      <td>3</td>\n",
       "    </tr>\n",
       "    <tr>\n",
       "      <th>3</th>\n",
       "      <td>1</td>\n",
       "      <td>-327.78</td>\n",
       "      <td>-317.399670</td>\n",
       "      <td>-473.73</td>\n",
       "      <td>-468.856388</td>\n",
       "      <td>1</td>\n",
       "      <td>76</td>\n",
       "      <td>2</td>\n",
       "    </tr>\n",
       "    <tr>\n",
       "      <th>4</th>\n",
       "      <td>1</td>\n",
       "      <td>-325.39</td>\n",
       "      <td>-316.155785</td>\n",
       "      <td>-478.52</td>\n",
       "      <td>-472.869783</td>\n",
       "      <td>0</td>\n",
       "      <td>65</td>\n",
       "      <td>2</td>\n",
       "    </tr>\n",
       "  </tbody>\n",
       "</table>\n",
       "</div>"
      ],
      "text/plain": [
       "   Diagnosis  Img-Min     Img-Avg  Real-Min    Real-Avg  Gender  Age  Smoking\n",
       "0          1  -320.61 -300.563531   -495.26 -464.171991       1   77        2\n",
       "1          1  -325.39 -314.750360   -473.73 -469.263140       0   72        2\n",
       "2          1  -323.00 -317.436056   -476.12 -471.897667       1   73        3\n",
       "3          1  -327.78 -317.399670   -473.73 -468.856388       1   76        2\n",
       "4          1  -325.39 -316.155785   -478.52 -472.869783       0   65        2"
      ]
     },
     "execution_count": 53,
     "metadata": {},
     "output_type": "execute_result"
    }
   ],
   "source": [
    "df.head()"
   ]
  },
  {
   "cell_type": "code",
   "execution_count": 54,
   "id": "0758e7c0",
   "metadata": {},
   "outputs": [
    {
     "data": {
      "text/plain": [
       "Diagnosis    False\n",
       "Img-Min      False\n",
       "Img-Avg      False\n",
       "Real-Min     False\n",
       "Real-Avg     False\n",
       "Gender       False\n",
       "Age          False\n",
       "Smoking      False\n",
       "dtype: bool"
      ]
     },
     "execution_count": 54,
     "metadata": {},
     "output_type": "execute_result"
    }
   ],
   "source": [
    "df.isnull().any()"
   ]
  },
  {
   "cell_type": "code",
   "execution_count": 55,
   "id": "4992cc97",
   "metadata": {},
   "outputs": [
    {
     "data": {
      "text/html": [
       "<div>\n",
       "<style scoped>\n",
       "    .dataframe tbody tr th:only-of-type {\n",
       "        vertical-align: middle;\n",
       "    }\n",
       "\n",
       "    .dataframe tbody tr th {\n",
       "        vertical-align: top;\n",
       "    }\n",
       "\n",
       "    .dataframe thead th {\n",
       "        text-align: right;\n",
       "    }\n",
       "</style>\n",
       "<table border=\"1\" class=\"dataframe\">\n",
       "  <thead>\n",
       "    <tr style=\"text-align: right;\">\n",
       "      <th></th>\n",
       "      <th>Diagnosis</th>\n",
       "      <th>Img-Min</th>\n",
       "      <th>Img-Avg</th>\n",
       "      <th>Real-Min</th>\n",
       "      <th>Real-Avg</th>\n",
       "      <th>Gender</th>\n",
       "      <th>Age</th>\n",
       "      <th>Smoking</th>\n",
       "    </tr>\n",
       "  </thead>\n",
       "  <tbody>\n",
       "    <tr>\n",
       "      <th>0</th>\n",
       "      <td>1</td>\n",
       "      <td>-320.61</td>\n",
       "      <td>-300.563531</td>\n",
       "      <td>-495.26</td>\n",
       "      <td>-464.171991</td>\n",
       "      <td>1</td>\n",
       "      <td>77</td>\n",
       "      <td>2</td>\n",
       "    </tr>\n",
       "    <tr>\n",
       "      <th>1</th>\n",
       "      <td>1</td>\n",
       "      <td>-325.39</td>\n",
       "      <td>-314.750360</td>\n",
       "      <td>-473.73</td>\n",
       "      <td>-469.263140</td>\n",
       "      <td>0</td>\n",
       "      <td>72</td>\n",
       "      <td>2</td>\n",
       "    </tr>\n",
       "    <tr>\n",
       "      <th>2</th>\n",
       "      <td>1</td>\n",
       "      <td>-323.00</td>\n",
       "      <td>-317.436056</td>\n",
       "      <td>-476.12</td>\n",
       "      <td>-471.897667</td>\n",
       "      <td>1</td>\n",
       "      <td>73</td>\n",
       "      <td>3</td>\n",
       "    </tr>\n",
       "    <tr>\n",
       "      <th>3</th>\n",
       "      <td>1</td>\n",
       "      <td>-327.78</td>\n",
       "      <td>-317.399670</td>\n",
       "      <td>-473.73</td>\n",
       "      <td>-468.856388</td>\n",
       "      <td>1</td>\n",
       "      <td>76</td>\n",
       "      <td>2</td>\n",
       "    </tr>\n",
       "    <tr>\n",
       "      <th>4</th>\n",
       "      <td>1</td>\n",
       "      <td>-325.39</td>\n",
       "      <td>-316.155785</td>\n",
       "      <td>-478.52</td>\n",
       "      <td>-472.869783</td>\n",
       "      <td>0</td>\n",
       "      <td>65</td>\n",
       "      <td>2</td>\n",
       "    </tr>\n",
       "  </tbody>\n",
       "</table>\n",
       "</div>"
      ],
      "text/plain": [
       "   Diagnosis  Img-Min     Img-Avg  Real-Min    Real-Avg  Gender  Age  Smoking\n",
       "0          1  -320.61 -300.563531   -495.26 -464.171991       1   77        2\n",
       "1          1  -325.39 -314.750360   -473.73 -469.263140       0   72        2\n",
       "2          1  -323.00 -317.436056   -476.12 -471.897667       1   73        3\n",
       "3          1  -327.78 -317.399670   -473.73 -468.856388       1   76        2\n",
       "4          1  -325.39 -316.155785   -478.52 -472.869783       0   65        2"
      ]
     },
     "execution_count": 55,
     "metadata": {},
     "output_type": "execute_result"
    }
   ],
   "source": [
    "df.head()"
   ]
  },
  {
   "cell_type": "code",
   "execution_count": 56,
   "id": "b26795f7",
   "metadata": {},
   "outputs": [
    {
     "data": {
      "text/plain": [
       "Diagnosis    False\n",
       "Img-Min      False\n",
       "Img-Avg      False\n",
       "Real-Min     False\n",
       "Real-Avg     False\n",
       "Gender       False\n",
       "Age          False\n",
       "Smoking      False\n",
       "dtype: bool"
      ]
     },
     "execution_count": 56,
     "metadata": {},
     "output_type": "execute_result"
    }
   ],
   "source": [
    "df.isnull().any()"
   ]
  },
  {
   "cell_type": "code",
   "execution_count": 57,
   "id": "30250008",
   "metadata": {},
   "outputs": [
    {
     "data": {
      "text/plain": [
       "<AxesSubplot:>"
      ]
     },
     "execution_count": 57,
     "metadata": {},
     "output_type": "execute_result"
    },
    {
     "data": {
      "image/png": "[encoded data removed]",
      "text/plain": [
       "<Figure size 720x576 with 2 Axes>"
      ]
     },
     "metadata": {
      "needs_background": "light"
     },
     "output_type": "display_data"
    }
   ],
   "source": [
    "plt.figure(figsize=(10,8))\n",
    "sns.heatmap(df.corr(),annot=True)"
   ]
  },
  {
   "cell_type": "code",
   "execution_count": 58,
   "id": "dc82fa15",
   "metadata": {},
   "outputs": [],
   "source": [
    "from sklearn.model_selection import train_test_split"
   ]
  },
  {
   "cell_type": "code",
   "execution_count": 59,
   "id": "8883b85f",
   "metadata": {},
   "outputs": [],
   "source": [
    "x=df.drop(columns=['Diagnosis'])"
   ]
  },
  {
   "cell_type": "code",
   "execution_count": 60,
   "id": "2ce15421",
   "metadata": {},
   "outputs": [
    {
     "data": {
      "text/html": [
       "<div>\n",
       "<style scoped>\n",
       "    .dataframe tbody tr th:only-of-type {\n",
       "        vertical-align: middle;\n",
       "    }\n",
       "\n",
       "    .dataframe tbody tr th {\n",
       "        vertical-align: top;\n",
       "    }\n",
       "\n",
       "    .dataframe thead th {\n",
       "        text-align: right;\n",
       "    }\n",
       "</style>\n",
       "<table border=\"1\" class=\"dataframe\">\n",
       "  <thead>\n",
       "    <tr style=\"text-align: right;\">\n",
       "      <th></th>\n",
       "      <th>Img-Min</th>\n",
       "      <th>Img-Avg</th>\n",
       "      <th>Real-Min</th>\n",
       "      <th>Real-Avg</th>\n",
       "      <th>Gender</th>\n",
       "      <th>Age</th>\n",
       "      <th>Smoking</th>\n",
       "    </tr>\n",
       "  </thead>\n",
       "  <tbody>\n",
       "    <tr>\n",
       "      <th>0</th>\n",
       "      <td>-320.61</td>\n",
       "      <td>-300.563531</td>\n",
       "      <td>-495.26</td>\n",
       "      <td>-464.171991</td>\n",
       "      <td>1</td>\n",
       "      <td>77</td>\n",
       "      <td>2</td>\n",
       "    </tr>\n",
       "    <tr>\n",
       "      <th>1</th>\n",
       "      <td>-325.39</td>\n",
       "      <td>-314.750360</td>\n",
       "      <td>-473.73</td>\n",
       "      <td>-469.263140</td>\n",
       "      <td>0</td>\n",
       "      <td>72</td>\n",
       "      <td>2</td>\n",
       "    </tr>\n",
       "    <tr>\n",
       "      <th>2</th>\n",
       "      <td>-323.00</td>\n",
       "      <td>-317.436056</td>\n",
       "      <td>-476.12</td>\n",
       "      <td>-471.897667</td>\n",
       "      <td>1</td>\n",
       "      <td>73</td>\n",
       "      <td>3</td>\n",
       "    </tr>\n",
       "    <tr>\n",
       "      <th>3</th>\n",
       "      <td>-327.78</td>\n",
       "      <td>-317.399670</td>\n",
       "      <td>-473.73</td>\n",
       "      <td>-468.856388</td>\n",
       "      <td>1</td>\n",
       "      <td>76</td>\n",
       "      <td>2</td>\n",
       "    </tr>\n",
       "    <tr>\n",
       "      <th>4</th>\n",
       "      <td>-325.39</td>\n",
       "      <td>-316.155785</td>\n",
       "      <td>-478.52</td>\n",
       "      <td>-472.869783</td>\n",
       "      <td>0</td>\n",
       "      <td>65</td>\n",
       "      <td>2</td>\n",
       "    </tr>\n",
       "  </tbody>\n",
       "</table>\n",
       "</div>"
      ],
      "text/plain": [
       "   Img-Min     Img-Avg  Real-Min    Real-Avg  Gender  Age  Smoking\n",
       "0  -320.61 -300.563531   -495.26 -464.171991       1   77        2\n",
       "1  -325.39 -314.750360   -473.73 -469.263140       0   72        2\n",
       "2  -323.00 -317.436056   -476.12 -471.897667       1   73        3\n",
       "3  -327.78 -317.399670   -473.73 -468.856388       1   76        2\n",
       "4  -325.39 -316.155785   -478.52 -472.869783       0   65        2"
      ]
     },
     "execution_count": 60,
     "metadata": {},
     "output_type": "execute_result"
    }
   ],
   "source": [
    "x.head()"
   ]
  },
  {
   "cell_type": "code",
   "execution_count": 61,
   "id": "44d13ea6",
   "metadata": {},
   "outputs": [],
   "source": [
    "y=df1.Diagnosis"
   ]
  },
  {
   "cell_type": "code",
   "execution_count": 62,
   "id": "2a547238",
   "metadata": {},
   "outputs": [
    {
     "data": {
      "text/plain": [
       "0    1\n",
       "1    1\n",
       "2    1\n",
       "3    1\n",
       "4    1\n",
       "Name: Diagnosis, dtype: int64"
      ]
     },
     "execution_count": 62,
     "metadata": {},
     "output_type": "execute_result"
    }
   ],
   "source": [
    "y.head()"
   ]
  },
  {
   "cell_type": "code",
   "execution_count": 63,
   "id": "c346a3ef",
   "metadata": {},
   "outputs": [
    {
     "data": {
      "text/plain": [
       "75    0\n",
       "76    0\n",
       "77    0\n",
       "78    0\n",
       "79    0\n",
       "Name: Diagnosis, dtype: int64"
      ]
     },
     "execution_count": 63,
     "metadata": {},
     "output_type": "execute_result"
    }
   ],
   "source": [
    "y.tail()"
   ]
  },
  {
   "cell_type": "code",
   "execution_count": 64,
   "id": "d2082dd9",
   "metadata": {},
   "outputs": [],
   "source": [
    "from sklearn.preprocessing import MinMaxScaler\n",
    "scale=MinMaxScaler()"
   ]
  },
  {
   "cell_type": "code",
   "execution_count": 65,
   "id": "554d94c7",
   "metadata": {},
   "outputs": [],
   "source": [
    "scaled_x=pd.DataFrame(scale.fit_transform(x))"
   ]
  },
  {
   "cell_type": "code",
   "execution_count": 66,
   "id": "465fca5d",
   "metadata": {},
   "outputs": [
    {
     "data": {
      "text/html": [
       "<div>\n",
       "<style scoped>\n",
       "    .dataframe tbody tr th:only-of-type {\n",
       "        vertical-align: middle;\n",
       "    }\n",
       "\n",
       "    .dataframe tbody tr th {\n",
       "        vertical-align: top;\n",
       "    }\n",
       "\n",
       "    .dataframe thead th {\n",
       "        text-align: right;\n",
       "    }\n",
       "</style>\n",
       "<table border=\"1\" class=\"dataframe\">\n",
       "  <thead>\n",
       "    <tr style=\"text-align: right;\">\n",
       "      <th></th>\n",
       "      <th>0</th>\n",
       "      <th>1</th>\n",
       "      <th>2</th>\n",
       "      <th>3</th>\n",
       "      <th>4</th>\n",
       "      <th>5</th>\n",
       "      <th>6</th>\n",
       "    </tr>\n",
       "  </thead>\n",
       "  <tbody>\n",
       "    <tr>\n",
       "      <th>0</th>\n",
       "      <td>0.148999</td>\n",
       "      <td>0.268369</td>\n",
       "      <td>0.708060</td>\n",
       "      <td>0.152779</td>\n",
       "      <td>1.0</td>\n",
       "      <td>0.786667</td>\n",
       "      <td>0.5</td>\n",
       "    </tr>\n",
       "    <tr>\n",
       "      <th>1</th>\n",
       "      <td>0.106453</td>\n",
       "      <td>0.131008</td>\n",
       "      <td>0.823900</td>\n",
       "      <td>0.073057</td>\n",
       "      <td>0.0</td>\n",
       "      <td>0.720000</td>\n",
       "      <td>0.5</td>\n",
       "    </tr>\n",
       "    <tr>\n",
       "      <th>2</th>\n",
       "      <td>0.127726</td>\n",
       "      <td>0.105004</td>\n",
       "      <td>0.811041</td>\n",
       "      <td>0.031804</td>\n",
       "      <td>1.0</td>\n",
       "      <td>0.733333</td>\n",
       "      <td>1.0</td>\n",
       "    </tr>\n",
       "    <tr>\n",
       "      <th>3</th>\n",
       "      <td>0.085180</td>\n",
       "      <td>0.105356</td>\n",
       "      <td>0.823900</td>\n",
       "      <td>0.079427</td>\n",
       "      <td>1.0</td>\n",
       "      <td>0.773333</td>\n",
       "      <td>0.5</td>\n",
       "    </tr>\n",
       "    <tr>\n",
       "      <th>4</th>\n",
       "      <td>0.106453</td>\n",
       "      <td>0.117400</td>\n",
       "      <td>0.798128</td>\n",
       "      <td>0.016581</td>\n",
       "      <td>0.0</td>\n",
       "      <td>0.626667</td>\n",
       "      <td>0.5</td>\n",
       "    </tr>\n",
       "    <tr>\n",
       "      <th>...</th>\n",
       "      <td>...</td>\n",
       "      <td>...</td>\n",
       "      <td>...</td>\n",
       "      <td>...</td>\n",
       "      <td>...</td>\n",
       "      <td>...</td>\n",
       "      <td>...</td>\n",
       "    </tr>\n",
       "    <tr>\n",
       "      <th>75</th>\n",
       "      <td>0.902092</td>\n",
       "      <td>0.893494</td>\n",
       "      <td>0.973098</td>\n",
       "      <td>0.437331</td>\n",
       "      <td>0.0</td>\n",
       "      <td>0.320000</td>\n",
       "      <td>0.5</td>\n",
       "    </tr>\n",
       "    <tr>\n",
       "      <th>76</th>\n",
       "      <td>0.919893</td>\n",
       "      <td>0.912859</td>\n",
       "      <td>0.978478</td>\n",
       "      <td>0.452990</td>\n",
       "      <td>0.0</td>\n",
       "      <td>0.106667</td>\n",
       "      <td>0.0</td>\n",
       "    </tr>\n",
       "    <tr>\n",
       "      <th>77</th>\n",
       "      <td>0.902092</td>\n",
       "      <td>0.893494</td>\n",
       "      <td>0.962337</td>\n",
       "      <td>0.406014</td>\n",
       "      <td>0.0</td>\n",
       "      <td>0.066667</td>\n",
       "      <td>0.0</td>\n",
       "    </tr>\n",
       "    <tr>\n",
       "      <th>78</th>\n",
       "      <td>0.910992</td>\n",
       "      <td>0.903177</td>\n",
       "      <td>0.967718</td>\n",
       "      <td>0.421673</td>\n",
       "      <td>1.0</td>\n",
       "      <td>0.560000</td>\n",
       "      <td>0.5</td>\n",
       "    </tr>\n",
       "    <tr>\n",
       "      <th>79</th>\n",
       "      <td>0.910992</td>\n",
       "      <td>0.903177</td>\n",
       "      <td>0.973098</td>\n",
       "      <td>0.437331</td>\n",
       "      <td>0.0</td>\n",
       "      <td>0.333333</td>\n",
       "      <td>0.0</td>\n",
       "    </tr>\n",
       "  </tbody>\n",
       "</table>\n",
       "<p>80 rows × 7 columns</p>\n",
       "</div>"
      ],
      "text/plain": [
       "           0         1         2         3    4         5    6\n",
       "0   0.148999  0.268369  0.708060  0.152779  1.0  0.786667  0.5\n",
       "1   0.106453  0.131008  0.823900  0.073057  0.0  0.720000  0.5\n",
       "2   0.127726  0.105004  0.811041  0.031804  1.0  0.733333  1.0\n",
       "3   0.085180  0.105356  0.823900  0.079427  1.0  0.773333  0.5\n",
       "4   0.106453  0.117400  0.798128  0.016581  0.0  0.626667  0.5\n",
       "..       ...       ...       ...       ...  ...       ...  ...\n",
       "75  0.902092  0.893494  0.973098  0.437331  0.0  0.320000  0.5\n",
       "76  0.919893  0.912859  0.978478  0.452990  0.0  0.106667  0.0\n",
       "77  0.902092  0.893494  0.962337  0.406014  0.0  0.066667  0.0\n",
       "78  0.910992  0.903177  0.967718  0.421673  1.0  0.560000  0.5\n",
       "79  0.910992  0.903177  0.973098  0.437331  0.0  0.333333  0.0\n",
       "\n",
       "[80 rows x 7 columns]"
      ]
     },
     "execution_count": 66,
     "metadata": {},
     "output_type": "execute_result"
    }
   ],
   "source": [
    "scaled_x"
   ]
  },
  {
   "cell_type": "code",
   "execution_count": 67,
   "id": "4bc691ed",
   "metadata": {},
   "outputs": [],
   "source": [
    "x_train,x_test,y_train,y_test=train_test_split(scaled_x,y,test_size=0.2,random_state=0 )"
   ]
  },
  {
   "cell_type": "code",
   "execution_count": 68,
   "id": "c8ae1166",
   "metadata": {},
   "outputs": [
    {
     "data": {
      "text/plain": [
       "(64, 7)"
      ]
     },
     "execution_count": 68,
     "metadata": {},
     "output_type": "execute_result"
    }
   ],
   "source": [
    "x_train.shape"
   ]
  },
  {
   "cell_type": "code",
   "execution_count": 69,
   "id": "707640bf",
   "metadata": {},
   "outputs": [
    {
     "data": {
      "text/plain": [
       "(16, 7)"
      ]
     },
     "execution_count": 69,
     "metadata": {},
     "output_type": "execute_result"
    }
   ],
   "source": [
    "x_test.shape"
   ]
  },
  {
   "cell_type": "code",
   "execution_count": 70,
   "id": "691f7f33",
   "metadata": {},
   "outputs": [
    {
     "data": {
      "text/plain": [
       "(64,)"
      ]
     },
     "execution_count": 70,
     "metadata": {},
     "output_type": "execute_result"
    }
   ],
   "source": [
    "y_train.shape"
   ]
  },
  {
   "cell_type": "code",
   "execution_count": 71,
   "id": "cd18249f",
   "metadata": {},
   "outputs": [
    {
     "data": {
      "text/plain": [
       "(16,)"
      ]
     },
     "execution_count": 71,
     "metadata": {},
     "output_type": "execute_result"
    }
   ],
   "source": [
    "y_test.shape"
   ]
  },
  {
   "cell_type": "markdown",
   "id": "9b7e8fbe",
   "metadata": {},
   "source": [
    "# LR"
   ]
  },
  {
   "cell_type": "code",
   "execution_count": 72,
   "id": "69ad2402",
   "metadata": {},
   "outputs": [],
   "source": [
    "from sklearn.linear_model import LogisticRegression\n",
    "lr = LogisticRegression()"
   ]
  },
  {
   "cell_type": "code",
   "execution_count": 73,
   "id": "d1d993d9",
   "metadata": {},
   "outputs": [
    {
     "data": {
      "text/html": [
       "<style>#sk-container-id-4 {color: black;background-color: white;}#sk-container-id-4 pre{padding: 0;}#sk-container-id-4 div.sk-toggleable {background-color: white;}#sk-container-id-4 label.sk-toggleable__label {cursor: pointer;display: block;width: 100%;margin-bottom: 0;padding: 0.3em;box-sizing: border-box;text-align: center;}#sk-container-id-4 label.sk-toggleable__label-arrow:before {content: \"▸\";float: left;margin-right: 0.25em;color: #696969;}#sk-container-id-4 label.sk-toggleable__label-arrow:hover:before {color: black;}#sk-container-id-4 div.sk-estimator:hover label.sk-toggleable__label-arrow:before {color: black;}#sk-container-id-4 div.sk-toggleable__content {max-height: 0;max-width: 0;overflow: hidden;text-align: left;background-color: #f0f8ff;}#sk-container-id-4 div.sk-toggleable__content pre {margin: 0.2em;color: black;border-radius: 0.25em;background-color: #f0f8ff;}#sk-container-id-4 input.sk-toggleable__control:checked~div.sk-toggleable__content {max-height: 200px;max-width: 100%;overflow: auto;}#sk-container-id-4 input.sk-toggleable__control:checked~label.sk-toggleable__label-arrow:before {content: \"▾\";}#sk-container-id-4 div.sk-estimator input.sk-toggleable__control:checked~label.sk-toggleable__label {background-color: #d4ebff;}#sk-container-id-4 div.sk-label input.sk-toggleable__control:checked~label.sk-toggleable__label {background-color: #d4ebff;}#sk-container-id-4 input.sk-hidden--visually {border: 0;clip: rect(1px 1px 1px 1px);clip: rect(1px, 1px, 1px, 1px);height: 1px;margin: -1px;overflow: hidden;padding: 0;position: absolute;width: 1px;}#sk-container-id-4 div.sk-estimator {font-family: monospace;background-color: #f0f8ff;border: 1px dotted black;border-radius: 0.25em;box-sizing: border-box;margin-bottom: 0.5em;}#sk-container-id-4 div.sk-estimator:hover {background-color: #d4ebff;}#sk-container-id-4 div.sk-parallel-item::after {content: \"\";width: 100%;border-bottom: 1px solid gray;flex-grow: 1;}#sk-container-id-4 div.sk-label:hover label.sk-toggleable__label {background-color: #d4ebff;}#sk-container-id-4 div.sk-serial::before {content: \"\";position: absolute;border-left: 1px solid gray;box-sizing: border-box;top: 0;bottom: 0;left: 50%;z-index: 0;}#sk-container-id-4 div.sk-serial {display: flex;flex-direction: column;align-items: center;background-color: white;padding-right: 0.2em;padding-left: 0.2em;position: relative;}#sk-container-id-4 div.sk-item {position: relative;z-index: 1;}#sk-container-id-4 div.sk-parallel {display: flex;align-items: stretch;justify-content: center;background-color: white;position: relative;}#sk-container-id-4 div.sk-item::before, #sk-container-id-4 div.sk-parallel-item::before {content: \"\";position: absolute;border-left: 1px solid gray;box-sizing: border-box;top: 0;bottom: 0;left: 50%;z-index: -1;}#sk-container-id-4 div.sk-parallel-item {display: flex;flex-direction: column;z-index: 1;position: relative;background-color: white;}#sk-container-id-4 div.sk-parallel-item:first-child::after {align-self: flex-end;width: 50%;}#sk-container-id-4 div.sk-parallel-item:last-child::after {align-self: flex-start;width: 50%;}#sk-container-id-4 div.sk-parallel-item:only-child::after {width: 0;}#sk-container-id-4 div.sk-dashed-wrapped {border: 1px dashed gray;margin: 0 0.4em 0.5em 0.4em;box-sizing: border-box;padding-bottom: 0.4em;background-color: white;}#sk-container-id-4 div.sk-label label {font-family: monospace;font-weight: bold;display: inline-block;line-height: 1.2em;}#sk-container-id-4 div.sk-label-container {text-align: center;}#sk-container-id-4 div.sk-container {/* jupyter's `normalize.less` sets `[hidden] { display: none; }` but bootstrap.min.css set `[hidden] { display: none !important; }` so we also need the `!important` here to be able to override the default hidden behavior on the sphinx rendered scikit-learn.org. See: https://github.com/scikit-learn/scikit-learn/issues/21755 */display: inline-block !important;position: relative;}#sk-container-id-4 div.sk-text-repr-fallback {display: none;}</style><div id=\"sk-container-id-4\" class=\"sk-top-container\"><div class=\"sk-text-repr-fallback\"><pre>LogisticRegression()</pre><b>In a Jupyter environment, please rerun this cell to show the HTML representation or trust the notebook. <br />On GitHub, the HTML representation is unable to render, please try loading this page with nbviewer.org.</b></div><div class=\"sk-container\" hidden><div class=\"sk-item\"><div class=\"sk-estimator sk-toggleable\"><input class=\"sk-toggleable__control sk-hidden--visually\" id=\"sk-estimator-id-4\" type=\"checkbox\" checked><label for=\"sk-estimator-id-4\" class=\"sk-toggleable__label sk-toggleable__label-arrow\">LogisticRegression</label><div class=\"sk-toggleable__content\"><pre>LogisticRegression()</pre></div></div></div></div></div>"
      ],
      "text/plain": [
       "LogisticRegression()"
      ]
     },
     "execution_count": 73,
     "metadata": {},
     "output_type": "execute_result"
    }
   ],
   "source": [
    "lr.fit(x_train,y_train)"
   ]
  },
  {
   "cell_type": "code",
   "execution_count": 74,
   "id": "c6bbbac2",
   "metadata": {},
   "outputs": [],
   "source": [
    "pred = lr.predict(x_test)"
   ]
  },
  {
   "cell_type": "code",
   "execution_count": 75,
   "id": "cfd10121",
   "metadata": {},
   "outputs": [],
   "source": [
    "from sklearn.metrics import accuracy_score,classification_report,confusion_matrix"
   ]
  },
  {
   "cell_type": "code",
   "execution_count": 76,
   "id": "0dde9bcc",
   "metadata": {},
   "outputs": [
    {
     "data": {
      "text/plain": [
       "0.875"
      ]
     },
     "execution_count": 76,
     "metadata": {},
     "output_type": "execute_result"
    }
   ],
   "source": [
    "\n",
    "accuracy_score(y_test,pred)"
   ]
  },
  {
   "cell_type": "code",
   "execution_count": 77,
   "id": "f16e02eb",
   "metadata": {},
   "outputs": [
    {
     "data": {
      "text/plain": [
       "array([[11,  1],\n",
       "       [ 1,  3]], dtype=int64)"
      ]
     },
     "execution_count": 77,
     "metadata": {},
     "output_type": "execute_result"
    }
   ],
   "source": [
    "confusion_matrix(y_test,pred)"
   ]
  },
  {
   "cell_type": "code",
   "execution_count": 78,
   "id": "e62c898d",
   "metadata": {
    "scrolled": true
   },
   "outputs": [
    {
     "name": "stdout",
     "output_type": "stream",
     "text": [
      "              precision    recall  f1-score   support\n",
      "\n",
      "           0       0.92      0.92      0.92        12\n",
      "           1       0.75      0.75      0.75         4\n",
      "\n",
      "    accuracy                           0.88        16\n",
      "   macro avg       0.83      0.83      0.83        16\n",
      "weighted avg       0.88      0.88      0.88        16\n",
      "\n"
     ]
    }
   ],
   "source": [
    "print (classification_report(y_test,pred))"
   ]
  },
  {
   "cell_type": "markdown",
   "id": "b6e6b496",
   "metadata": {},
   "source": [
    "# KNN"
   ]
  },
  {
   "cell_type": "code",
   "execution_count": 79,
   "id": "81122cf4",
   "metadata": {},
   "outputs": [],
   "source": [
    "from sklearn.neighbors import KNeighborsClassifier"
   ]
  },
  {
   "cell_type": "code",
   "execution_count": 80,
   "id": "ee99a9d5",
   "metadata": {},
   "outputs": [],
   "source": [
    "knn=KNeighborsClassifier() "
   ]
  },
  {
   "cell_type": "code",
   "execution_count": 81,
   "id": "3374304f",
   "metadata": {},
   "outputs": [
    {
     "data": {
      "text/html": [
       "<style>#sk-container-id-5 {color: black;background-color: white;}#sk-container-id-5 pre{padding: 0;}#sk-container-id-5 div.sk-toggleable {background-color: white;}#sk-container-id-5 label.sk-toggleable__label {cursor: pointer;display: block;width: 100%;margin-bottom: 0;padding: 0.3em;box-sizing: border-box;text-align: center;}#sk-container-id-5 label.sk-toggleable__label-arrow:before {content: \"▸\";float: left;margin-right: 0.25em;color: #696969;}#sk-container-id-5 label.sk-toggleable__label-arrow:hover:before {color: black;}#sk-container-id-5 div.sk-estimator:hover label.sk-toggleable__label-arrow:before {color: black;}#sk-container-id-5 div.sk-toggleable__content {max-height: 0;max-width: 0;overflow: hidden;text-align: left;background-color: #f0f8ff;}#sk-container-id-5 div.sk-toggleable__content pre {margin: 0.2em;color: black;border-radius: 0.25em;background-color: #f0f8ff;}#sk-container-id-5 input.sk-toggleable__control:checked~div.sk-toggleable__content {max-height: 200px;max-width: 100%;overflow: auto;}#sk-container-id-5 input.sk-toggleable__control:checked~label.sk-toggleable__label-arrow:before {content: \"▾\";}#sk-container-id-5 div.sk-estimator input.sk-toggleable__control:checked~label.sk-toggleable__label {background-color: #d4ebff;}#sk-container-id-5 div.sk-label input.sk-toggleable__control:checked~label.sk-toggleable__label {background-color: #d4ebff;}#sk-container-id-5 input.sk-hidden--visually {border: 0;clip: rect(1px 1px 1px 1px);clip: rect(1px, 1px, 1px, 1px);height: 1px;margin: -1px;overflow: hidden;padding: 0;position: absolute;width: 1px;}#sk-container-id-5 div.sk-estimator {font-family: monospace;background-color: #f0f8ff;border: 1px dotted black;border-radius: 0.25em;box-sizing: border-box;margin-bottom: 0.5em;}#sk-container-id-5 div.sk-estimator:hover {background-color: #d4ebff;}#sk-container-id-5 div.sk-parallel-item::after {content: \"\";width: 100%;border-bottom: 1px solid gray;flex-grow: 1;}#sk-container-id-5 div.sk-label:hover label.sk-toggleable__label {background-color: #d4ebff;}#sk-container-id-5 div.sk-serial::before {content: \"\";position: absolute;border-left: 1px solid gray;box-sizing: border-box;top: 0;bottom: 0;left: 50%;z-index: 0;}#sk-container-id-5 div.sk-serial {display: flex;flex-direction: column;align-items: center;background-color: white;padding-right: 0.2em;padding-left: 0.2em;position: relative;}#sk-container-id-5 div.sk-item {position: relative;z-index: 1;}#sk-container-id-5 div.sk-parallel {display: flex;align-items: stretch;justify-content: center;background-color: white;position: relative;}#sk-container-id-5 div.sk-item::before, #sk-container-id-5 div.sk-parallel-item::before {content: \"\";position: absolute;border-left: 1px solid gray;box-sizing: border-box;top: 0;bottom: 0;left: 50%;z-index: -1;}#sk-container-id-5 div.sk-parallel-item {display: flex;flex-direction: column;z-index: 1;position: relative;background-color: white;}#sk-container-id-5 div.sk-parallel-item:first-child::after {align-self: flex-end;width: 50%;}#sk-container-id-5 div.sk-parallel-item:last-child::after {align-self: flex-start;width: 50%;}#sk-container-id-5 div.sk-parallel-item:only-child::after {width: 0;}#sk-container-id-5 div.sk-dashed-wrapped {border: 1px dashed gray;margin: 0 0.4em 0.5em 0.4em;box-sizing: border-box;padding-bottom: 0.4em;background-color: white;}#sk-container-id-5 div.sk-label label {font-family: monospace;font-weight: bold;display: inline-block;line-height: 1.2em;}#sk-container-id-5 div.sk-label-container {text-align: center;}#sk-container-id-5 div.sk-container {/* jupyter's `normalize.less` sets `[hidden] { display: none; }` but bootstrap.min.css set `[hidden] { display: none !important; }` so we also need the `!important` here to be able to override the default hidden behavior on the sphinx rendered scikit-learn.org. See: https://github.com/scikit-learn/scikit-learn/issues/21755 */display: inline-block !important;position: relative;}#sk-container-id-5 div.sk-text-repr-fallback {display: none;}</style><div id=\"sk-container-id-5\" class=\"sk-top-container\"><div class=\"sk-text-repr-fallback\"><pre>KNeighborsClassifier()</pre><b>In a Jupyter environment, please rerun this cell to show the HTML representation or trust the notebook. <br />On GitHub, the HTML representation is unable to render, please try loading this page with nbviewer.org.</b></div><div class=\"sk-container\" hidden><div class=\"sk-item\"><div class=\"sk-estimator sk-toggleable\"><input class=\"sk-toggleable__control sk-hidden--visually\" id=\"sk-estimator-id-5\" type=\"checkbox\" checked><label for=\"sk-estimator-id-5\" class=\"sk-toggleable__label sk-toggleable__label-arrow\">KNeighborsClassifier</label><div class=\"sk-toggleable__content\"><pre>KNeighborsClassifier()</pre></div></div></div></div></div>"
      ],
      "text/plain": [
       "KNeighborsClassifier()"
      ]
     },
     "execution_count": 81,
     "metadata": {},
     "output_type": "execute_result"
    }
   ],
   "source": [
    "knn.fit(x_train,y_train)"
   ]
  },
  {
   "cell_type": "code",
   "execution_count": 82,
   "id": "95805575",
   "metadata": {},
   "outputs": [],
   "source": [
    "pred = knn.predict(x_test)"
   ]
  },
  {
   "cell_type": "code",
   "execution_count": 83,
   "id": "3fd543e8",
   "metadata": {},
   "outputs": [],
   "source": [
    "acc = accuracy_score(y_test,pred)"
   ]
  },
  {
   "cell_type": "code",
   "execution_count": 84,
   "id": "7957005a",
   "metadata": {},
   "outputs": [
    {
     "data": {
      "text/plain": [
       "0.8125"
      ]
     },
     "execution_count": 84,
     "metadata": {},
     "output_type": "execute_result"
    }
   ],
   "source": [
    "acc"
   ]
  },
  {
   "cell_type": "code",
   "execution_count": 85,
   "id": "d9e6963b",
   "metadata": {},
   "outputs": [
    {
     "data": {
      "text/plain": [
       "array([[10,  2],\n",
       "       [ 1,  3]], dtype=int64)"
      ]
     },
     "execution_count": 85,
     "metadata": {},
     "output_type": "execute_result"
    }
   ],
   "source": [
    "conm=confusion_matrix(y_test,pred)\n",
    "conm"
   ]
  },
  {
   "cell_type": "code",
   "execution_count": 86,
   "id": "b0fc5e77",
   "metadata": {},
   "outputs": [
    {
     "name": "stdout",
     "output_type": "stream",
     "text": [
      "              precision    recall  f1-score   support\n",
      "\n",
      "           0       0.91      0.83      0.87        12\n",
      "           1       0.60      0.75      0.67         4\n",
      "\n",
      "    accuracy                           0.81        16\n",
      "   macro avg       0.75      0.79      0.77        16\n",
      "weighted avg       0.83      0.81      0.82        16\n",
      "\n"
     ]
    }
   ],
   "source": [
    "print(classification_report(y_test,pred))"
   ]
  },
  {
   "cell_type": "markdown",
   "id": "e3d1df6b",
   "metadata": {},
   "source": [
    "# XGB"
   ]
  },
  {
   "cell_type": "code",
   "execution_count": 87,
   "id": "b9602eff",
   "metadata": {},
   "outputs": [],
   "source": [
    "import xgboost as xgb"
   ]
  },
  {
   "cell_type": "code",
   "execution_count": 88,
   "id": "af9c4866",
   "metadata": {},
   "outputs": [],
   "source": [
    "xg= xgb.XGBClassifier(n_estimators=10)"
   ]
  },
  {
   "cell_type": "code",
   "execution_count": 89,
   "id": "814d2baf",
   "metadata": {},
   "outputs": [
    {
     "data": {
      "text/html": [
       "<style>#sk-container-id-6 {color: black;background-color: white;}#sk-container-id-6 pre{padding: 0;}#sk-container-id-6 div.sk-toggleable {background-color: white;}#sk-container-id-6 label.sk-toggleable__label {cursor: pointer;display: block;width: 100%;margin-bottom: 0;padding: 0.3em;box-sizing: border-box;text-align: center;}#sk-container-id-6 label.sk-toggleable__label-arrow:before {content: \"▸\";float: left;margin-right: 0.25em;color: #696969;}#sk-container-id-6 label.sk-toggleable__label-arrow:hover:before {color: black;}#sk-container-id-6 div.sk-estimator:hover label.sk-toggleable__label-arrow:before {color: black;}#sk-container-id-6 div.sk-toggleable__content {max-height: 0;max-width: 0;overflow: hidden;text-align: left;background-color: #f0f8ff;}#sk-container-id-6 div.sk-toggleable__content pre {margin: 0.2em;color: black;border-radius: 0.25em;background-color: #f0f8ff;}#sk-container-id-6 input.sk-toggleable__control:checked~div.sk-toggleable__content {max-height: 200px;max-width: 100%;overflow: auto;}#sk-container-id-6 input.sk-toggleable__control:checked~label.sk-toggleable__label-arrow:before {content: \"▾\";}#sk-container-id-6 div.sk-estimator input.sk-toggleable__control:checked~label.sk-toggleable__label {background-color: #d4ebff;}#sk-container-id-6 div.sk-label input.sk-toggleable__control:checked~label.sk-toggleable__label {background-color: #d4ebff;}#sk-container-id-6 input.sk-hidden--visually {border: 0;clip: rect(1px 1px 1px 1px);clip: rect(1px, 1px, 1px, 1px);height: 1px;margin: -1px;overflow: hidden;padding: 0;position: absolute;width: 1px;}#sk-container-id-6 div.sk-estimator {font-family: monospace;background-color: #f0f8ff;border: 1px dotted black;border-radius: 0.25em;box-sizing: border-box;margin-bottom: 0.5em;}#sk-container-id-6 div.sk-estimator:hover {background-color: #d4ebff;}#sk-container-id-6 div.sk-parallel-item::after {content: \"\";width: 100%;border-bottom: 1px solid gray;flex-grow: 1;}#sk-container-id-6 div.sk-label:hover label.sk-toggleable__label {background-color: #d4ebff;}#sk-container-id-6 div.sk-serial::before {content: \"\";position: absolute;border-left: 1px solid gray;box-sizing: border-box;top: 0;bottom: 0;left: 50%;z-index: 0;}#sk-container-id-6 div.sk-serial {display: flex;flex-direction: column;align-items: center;background-color: white;padding-right: 0.2em;padding-left: 0.2em;position: relative;}#sk-container-id-6 div.sk-item {position: relative;z-index: 1;}#sk-container-id-6 div.sk-parallel {display: flex;align-items: stretch;justify-content: center;background-color: white;position: relative;}#sk-container-id-6 div.sk-item::before, #sk-container-id-6 div.sk-parallel-item::before {content: \"\";position: absolute;border-left: 1px solid gray;box-sizing: border-box;top: 0;bottom: 0;left: 50%;z-index: -1;}#sk-container-id-6 div.sk-parallel-item {display: flex;flex-direction: column;z-index: 1;position: relative;background-color: white;}#sk-container-id-6 div.sk-parallel-item:first-child::after {align-self: flex-end;width: 50%;}#sk-container-id-6 div.sk-parallel-item:last-child::after {align-self: flex-start;width: 50%;}#sk-container-id-6 div.sk-parallel-item:only-child::after {width: 0;}#sk-container-id-6 div.sk-dashed-wrapped {border: 1px dashed gray;margin: 0 0.4em 0.5em 0.4em;box-sizing: border-box;padding-bottom: 0.4em;background-color: white;}#sk-container-id-6 div.sk-label label {font-family: monospace;font-weight: bold;display: inline-block;line-height: 1.2em;}#sk-container-id-6 div.sk-label-container {text-align: center;}#sk-container-id-6 div.sk-container {/* jupyter's `normalize.less` sets `[hidden] { display: none; }` but bootstrap.min.css set `[hidden] { display: none !important; }` so we also need the `!important` here to be able to override the default hidden behavior on the sphinx rendered scikit-learn.org. See: https://github.com/scikit-learn/scikit-learn/issues/21755 */display: inline-block !important;position: relative;}#sk-container-id-6 div.sk-text-repr-fallback {display: none;}</style><div id=\"sk-container-id-6\" class=\"sk-top-container\"><div class=\"sk-text-repr-fallback\"><pre>XGBClassifier(base_score=None, booster=None, callbacks=None,\n",
       "              colsample_bylevel=None, colsample_bynode=None,\n",
       "              colsample_bytree=None, early_stopping_rounds=None,\n",
       "              enable_categorical=False, eval_metric=None, feature_types=None,\n",
       "              gamma=None, gpu_id=None, grow_policy=None, importance_type=None,\n",
       "              interaction_constraints=None, learning_rate=None, max_bin=None,\n",
       "              max_cat_threshold=None, max_cat_to_onehot=None,\n",
       "              max_delta_step=None, max_depth=None, max_leaves=None,\n",
       "              min_child_weight=None, missing=nan, monotone_constraints=None,\n",
       "              n_estimators=10, n_jobs=None, num_parallel_tree=None,\n",
       "              predictor=None, random_state=None, ...)</pre><b>In a Jupyter environment, please rerun this cell to show the HTML representation or trust the notebook. <br />On GitHub, the HTML representation is unable to render, please try loading this page with nbviewer.org.</b></div><div class=\"sk-container\" hidden><div class=\"sk-item\"><div class=\"sk-estimator sk-toggleable\"><input class=\"sk-toggleable__control sk-hidden--visually\" id=\"sk-estimator-id-6\" type=\"checkbox\" checked><label for=\"sk-estimator-id-6\" class=\"sk-toggleable__label sk-toggleable__label-arrow\">XGBClassifier</label><div class=\"sk-toggleable__content\"><pre>XGBClassifier(base_score=None, booster=None, callbacks=None,\n",
       "              colsample_bylevel=None, colsample_bynode=None,\n",
       "              colsample_bytree=None, early_stopping_rounds=None,\n",
       "              enable_categorical=False, eval_metric=None, feature_types=None,\n",
       "              gamma=None, gpu_id=None, grow_policy=None, importance_type=None,\n",
       "              interaction_constraints=None, learning_rate=None, max_bin=None,\n",
       "              max_cat_threshold=None, max_cat_to_onehot=None,\n",
       "              max_delta_step=None, max_depth=None, max_leaves=None,\n",
       "              min_child_weight=None, missing=nan, monotone_constraints=None,\n",
       "              n_estimators=10, n_jobs=None, num_parallel_tree=None,\n",
       "              predictor=None, random_state=None, ...)</pre></div></div></div></div></div>"
      ],
      "text/plain": [
       "XGBClassifier(base_score=None, booster=None, callbacks=None,\n",
       "              colsample_bylevel=None, colsample_bynode=None,\n",
       "              colsample_bytree=None, early_stopping_rounds=None,\n",
       "              enable_categorical=False, eval_metric=None, feature_types=None,\n",
       "              gamma=None, gpu_id=None, grow_policy=None, importance_type=None,\n",
       "              interaction_constraints=None, learning_rate=None, max_bin=None,\n",
       "              max_cat_threshold=None, max_cat_to_onehot=None,\n",
       "              max_delta_step=None, max_depth=None, max_leaves=None,\n",
       "              min_child_weight=None, missing=nan, monotone_constraints=None,\n",
       "              n_estimators=10, n_jobs=None, num_parallel_tree=None,\n",
       "              predictor=None, random_state=None, ...)"
      ]
     },
     "execution_count": 89,
     "metadata": {},
     "output_type": "execute_result"
    }
   ],
   "source": [
    "xg.fit(x_train,y_train)"
   ]
  },
  {
   "cell_type": "code",
   "execution_count": 90,
   "id": "48976940",
   "metadata": {},
   "outputs": [],
   "source": [
    "pred=xg.predict(x_test)"
   ]
  },
  {
   "cell_type": "code",
   "execution_count": 91,
   "id": "b9c5afd1",
   "metadata": {},
   "outputs": [
    {
     "data": {
      "text/plain": [
       "0.9375"
      ]
     },
     "execution_count": 91,
     "metadata": {},
     "output_type": "execute_result"
    }
   ],
   "source": [
    "accuracy_score(y_test,pred)"
   ]
  },
  {
   "cell_type": "code",
   "execution_count": 94,
   "id": "eac10333",
   "metadata": {},
   "outputs": [
    {
     "data": {
      "text/plain": [
       "array([[12,  0],\n",
       "       [ 1,  3]], dtype=int64)"
      ]
     },
     "execution_count": 94,
     "metadata": {},
     "output_type": "execute_result"
    }
   ],
   "source": [
    "conm=confusion_matrix(y_test,pred)\n",
    "conm"
   ]
  },
  {
   "cell_type": "code",
   "execution_count": 95,
   "id": "bb32bd7d",
   "metadata": {},
   "outputs": [
    {
     "name": "stdout",
     "output_type": "stream",
     "text": [
      "              precision    recall  f1-score   support\n",
      "\n",
      "           0       0.92      1.00      0.96        12\n",
      "           1       1.00      0.75      0.86         4\n",
      "\n",
      "    accuracy                           0.94        16\n",
      "   macro avg       0.96      0.88      0.91        16\n",
      "weighted avg       0.94      0.94      0.93        16\n",
      "\n"
     ]
    }
   ],
   "source": [
    "print(classification_report(y_test,pred))"
   ]
  },
  {
   "cell_type": "markdown",
   "id": "bd2c7d85",
   "metadata": {},
   "source": [
    "# ANN"
   ]
  },
  {
   "cell_type": "code",
   "execution_count": 93,
   "id": "f78da5b7",
   "metadata": {},
   "outputs": [
    {
     "name": "stdout",
     "output_type": "stream",
     "text": [
      "Epoch 1/100\n",
      "2/2 [==============================] - 1s 141ms/step - loss: 0.6751 - accuracy: 0.5714 - val_loss: 0.6794 - val_accuracy: 0.6000\n",
      "Epoch 2/100\n",
      "2/2 [==============================] - 0s 32ms/step - loss: 0.6532 - accuracy: 0.5714 - val_loss: 0.6737 - val_accuracy: 0.6000\n",
      "Epoch 3/100\n",
      "2/2 [==============================] - 0s 30ms/step - loss: 0.6457 - accuracy: 0.5714 - val_loss: 0.6703 - val_accuracy: 0.6000\n",
      "Epoch 4/100\n",
      "2/2 [==============================] - 0s 31ms/step - loss: 0.6399 - accuracy: 0.5714 - val_loss: 0.6682 - val_accuracy: 0.6000\n",
      "Epoch 5/100\n",
      "2/2 [==============================] - 0s 32ms/step - loss: 0.6325 - accuracy: 0.5714 - val_loss: 0.6648 - val_accuracy: 0.6000\n",
      "Epoch 6/100\n",
      "2/2 [==============================] - 0s 32ms/step - loss: 0.6276 - accuracy: 0.5952 - val_loss: 0.6586 - val_accuracy: 0.6000\n",
      "Epoch 7/100\n",
      "2/2 [==============================] - 0s 32ms/step - loss: 0.6220 - accuracy: 0.7143 - val_loss: 0.6561 - val_accuracy: 0.6000\n",
      "Epoch 8/100\n",
      "2/2 [==============================] - 0s 34ms/step - loss: 0.6166 - accuracy: 0.6905 - val_loss: 0.6516 - val_accuracy: 0.6000\n",
      "Epoch 9/100\n",
      "2/2 [==============================] - 0s 31ms/step - loss: 0.6117 - accuracy: 0.6667 - val_loss: 0.6514 - val_accuracy: 0.6000\n",
      "Epoch 10/100\n",
      "2/2 [==============================] - 0s 31ms/step - loss: 0.6069 - accuracy: 0.6667 - val_loss: 0.6495 - val_accuracy: 0.6000\n",
      "Epoch 11/100\n",
      "2/2 [==============================] - 0s 32ms/step - loss: 0.6026 - accuracy: 0.6905 - val_loss: 0.6473 - val_accuracy: 0.6000\n",
      "Epoch 12/100\n",
      "2/2 [==============================] - 0s 31ms/step - loss: 0.5974 - accuracy: 0.7143 - val_loss: 0.6474 - val_accuracy: 0.6000\n",
      "Epoch 13/100\n",
      "2/2 [==============================] - 0s 32ms/step - loss: 0.5945 - accuracy: 0.7143 - val_loss: 0.6478 - val_accuracy: 0.6000\n",
      "Epoch 14/100\n",
      "2/2 [==============================] - 0s 37ms/step - loss: 0.5900 - accuracy: 0.6905 - val_loss: 0.6433 - val_accuracy: 0.6000\n",
      "Epoch 15/100\n",
      "2/2 [==============================] - 0s 38ms/step - loss: 0.5841 - accuracy: 0.7381 - val_loss: 0.6347 - val_accuracy: 0.6000\n",
      "Epoch 16/100\n",
      "2/2 [==============================] - 0s 34ms/step - loss: 0.5800 - accuracy: 0.7381 - val_loss: 0.6329 - val_accuracy: 0.6000\n",
      "Epoch 17/100\n",
      "2/2 [==============================] - 0s 36ms/step - loss: 0.5750 - accuracy: 0.7381 - val_loss: 0.6319 - val_accuracy: 0.6000\n",
      "Epoch 18/100\n",
      "2/2 [==============================] - 0s 33ms/step - loss: 0.5698 - accuracy: 0.7381 - val_loss: 0.6319 - val_accuracy: 0.6000\n",
      "Epoch 19/100\n",
      "2/2 [==============================] - 0s 32ms/step - loss: 0.5652 - accuracy: 0.7381 - val_loss: 0.6286 - val_accuracy: 0.6000\n",
      "Epoch 20/100\n",
      "2/2 [==============================] - 0s 32ms/step - loss: 0.5603 - accuracy: 0.7381 - val_loss: 0.6208 - val_accuracy: 0.6000\n",
      "Epoch 21/100\n",
      "2/2 [==============================] - 0s 33ms/step - loss: 0.5552 - accuracy: 0.7381 - val_loss: 0.6177 - val_accuracy: 0.6000\n",
      "Epoch 22/100\n",
      "2/2 [==============================] - 0s 32ms/step - loss: 0.5499 - accuracy: 0.7381 - val_loss: 0.6122 - val_accuracy: 0.6000\n",
      "Epoch 23/100\n",
      "2/2 [==============================] - 0s 33ms/step - loss: 0.5454 - accuracy: 0.7381 - val_loss: 0.6079 - val_accuracy: 0.6000\n",
      "Epoch 24/100\n",
      "2/2 [==============================] - 0s 33ms/step - loss: 0.5410 - accuracy: 0.7381 - val_loss: 0.6061 - val_accuracy: 0.6000\n",
      "Epoch 25/100\n",
      "2/2 [==============================] - 0s 38ms/step - loss: 0.5364 - accuracy: 0.7381 - val_loss: 0.6050 - val_accuracy: 0.6000\n",
      "Epoch 26/100\n",
      "2/2 [==============================] - 0s 40ms/step - loss: 0.5311 - accuracy: 0.7143 - val_loss: 0.6022 - val_accuracy: 0.6000\n",
      "Epoch 27/100\n",
      "2/2 [==============================] - 0s 31ms/step - loss: 0.5258 - accuracy: 0.7381 - val_loss: 0.5940 - val_accuracy: 0.7000\n",
      "Epoch 28/100\n",
      "2/2 [==============================] - 0s 34ms/step - loss: 0.5209 - accuracy: 0.7381 - val_loss: 0.5886 - val_accuracy: 0.7000\n",
      "Epoch 29/100\n",
      "2/2 [==============================] - 0s 34ms/step - loss: 0.5167 - accuracy: 0.7381 - val_loss: 0.5848 - val_accuracy: 0.7000\n",
      "Epoch 30/100\n",
      "2/2 [==============================] - 0s 30ms/step - loss: 0.5147 - accuracy: 0.7381 - val_loss: 0.5753 - val_accuracy: 0.8000\n",
      "Epoch 31/100\n",
      "2/2 [==============================] - 0s 28ms/step - loss: 0.5075 - accuracy: 0.7381 - val_loss: 0.5687 - val_accuracy: 0.9000\n",
      "Epoch 32/100\n",
      "2/2 [==============================] - 0s 31ms/step - loss: 0.5024 - accuracy: 0.7381 - val_loss: 0.5649 - val_accuracy: 0.8000\n",
      "Epoch 33/100\n",
      "2/2 [==============================] - 0s 30ms/step - loss: 0.4995 - accuracy: 0.7381 - val_loss: 0.5636 - val_accuracy: 0.8000\n",
      "Epoch 34/100\n",
      "2/2 [==============================] - 0s 29ms/step - loss: 0.4951 - accuracy: 0.7619 - val_loss: 0.5615 - val_accuracy: 0.8000\n",
      "Epoch 35/100\n",
      "2/2 [==============================] - 0s 29ms/step - loss: 0.4904 - accuracy: 0.7619 - val_loss: 0.5598 - val_accuracy: 0.8000\n",
      "Epoch 36/100\n",
      "2/2 [==============================] - 0s 33ms/step - loss: 0.4847 - accuracy: 0.7381 - val_loss: 0.5557 - val_accuracy: 0.9000\n",
      "Epoch 37/100\n",
      "2/2 [==============================] - 0s 29ms/step - loss: 0.4805 - accuracy: 0.7619 - val_loss: 0.5528 - val_accuracy: 0.8000\n",
      "Epoch 38/100\n",
      "2/2 [==============================] - 0s 31ms/step - loss: 0.4760 - accuracy: 0.7381 - val_loss: 0.5445 - val_accuracy: 0.8000\n",
      "Epoch 39/100\n",
      "2/2 [==============================] - 0s 35ms/step - loss: 0.4742 - accuracy: 0.7619 - val_loss: 0.5405 - val_accuracy: 0.8000\n",
      "Epoch 40/100\n",
      "2/2 [==============================] - 0s 34ms/step - loss: 0.4677 - accuracy: 0.7619 - val_loss: 0.5394 - val_accuracy: 0.8000\n",
      "Epoch 41/100\n",
      "2/2 [==============================] - 0s 37ms/step - loss: 0.4642 - accuracy: 0.7619 - val_loss: 0.5341 - val_accuracy: 0.8000\n",
      "Epoch 42/100\n",
      "2/2 [==============================] - 0s 31ms/step - loss: 0.4605 - accuracy: 0.8095 - val_loss: 0.5271 - val_accuracy: 0.8000\n",
      "Epoch 43/100\n",
      "2/2 [==============================] - 0s 38ms/step - loss: 0.4559 - accuracy: 0.7619 - val_loss: 0.5290 - val_accuracy: 0.9000\n",
      "Epoch 44/100\n",
      "2/2 [==============================] - 0s 33ms/step - loss: 0.4521 - accuracy: 0.7619 - val_loss: 0.5239 - val_accuracy: 0.9000\n",
      "Epoch 45/100\n",
      "2/2 [==============================] - 0s 37ms/step - loss: 0.4482 - accuracy: 0.7619 - val_loss: 0.5196 - val_accuracy: 0.9000\n",
      "Epoch 46/100\n",
      "2/2 [==============================] - 0s 34ms/step - loss: 0.4445 - accuracy: 0.7619 - val_loss: 0.5139 - val_accuracy: 0.9000\n",
      "Epoch 47/100\n",
      "2/2 [==============================] - 0s 36ms/step - loss: 0.4390 - accuracy: 0.7619 - val_loss: 0.5072 - val_accuracy: 0.8000\n",
      "Epoch 48/100\n",
      "2/2 [==============================] - 0s 40ms/step - loss: 0.4336 - accuracy: 0.7619 - val_loss: 0.5077 - val_accuracy: 0.8000\n",
      "Epoch 49/100\n",
      "2/2 [==============================] - 0s 31ms/step - loss: 0.4296 - accuracy: 0.7619 - val_loss: 0.5021 - val_accuracy: 0.8000\n",
      "Epoch 50/100\n",
      "2/2 [==============================] - 0s 35ms/step - loss: 0.4247 - accuracy: 0.7619 - val_loss: 0.5017 - val_accuracy: 0.8000\n",
      "Epoch 51/100\n",
      "2/2 [==============================] - 0s 34ms/step - loss: 0.4293 - accuracy: 0.7857 - val_loss: 0.5018 - val_accuracy: 0.9000\n",
      "Epoch 52/100\n",
      "2/2 [==============================] - 0s 33ms/step - loss: 0.4223 - accuracy: 0.7619 - val_loss: 0.4931 - val_accuracy: 0.8000\n",
      "Epoch 53/100\n",
      "2/2 [==============================] - 0s 32ms/step - loss: 0.4148 - accuracy: 0.7619 - val_loss: 0.4875 - val_accuracy: 0.8000\n",
      "Epoch 54/100\n",
      "2/2 [==============================] - 0s 32ms/step - loss: 0.4137 - accuracy: 0.7619 - val_loss: 0.4813 - val_accuracy: 0.8000\n",
      "Epoch 55/100\n",
      "2/2 [==============================] - 0s 30ms/step - loss: 0.4094 - accuracy: 0.8571 - val_loss: 0.4722 - val_accuracy: 0.8000\n",
      "Epoch 56/100\n",
      "2/2 [==============================] - 0s 31ms/step - loss: 0.4041 - accuracy: 0.8571 - val_loss: 0.4657 - val_accuracy: 0.8000\n",
      "Epoch 57/100\n",
      "2/2 [==============================] - 0s 33ms/step - loss: 0.3977 - accuracy: 0.8571 - val_loss: 0.4611 - val_accuracy: 0.8000\n",
      "Epoch 58/100\n",
      "2/2 [==============================] - 0s 33ms/step - loss: 0.3922 - accuracy: 0.8571 - val_loss: 0.4546 - val_accuracy: 0.8000\n",
      "Epoch 59/100\n",
      "2/2 [==============================] - 0s 32ms/step - loss: 0.3895 - accuracy: 0.8571 - val_loss: 0.4484 - val_accuracy: 0.8000\n",
      "Epoch 60/100\n",
      "2/2 [==============================] - 0s 33ms/step - loss: 0.3859 - accuracy: 0.8571 - val_loss: 0.4475 - val_accuracy: 0.8000\n",
      "Epoch 61/100\n",
      "2/2 [==============================] - 0s 29ms/step - loss: 0.3815 - accuracy: 0.8571 - val_loss: 0.4426 - val_accuracy: 0.8000\n",
      "Epoch 62/100\n",
      "2/2 [==============================] - 0s 30ms/step - loss: 0.3775 - accuracy: 0.8571 - val_loss: 0.4352 - val_accuracy: 0.8000\n",
      "Epoch 63/100\n",
      "2/2 [==============================] - 0s 27ms/step - loss: 0.3729 - accuracy: 0.8571 - val_loss: 0.4288 - val_accuracy: 0.8000\n",
      "Epoch 64/100\n",
      "2/2 [==============================] - 0s 29ms/step - loss: 0.3689 - accuracy: 0.8571 - val_loss: 0.4209 - val_accuracy: 0.8000\n",
      "Epoch 65/100\n",
      "2/2 [==============================] - 0s 29ms/step - loss: 0.3685 - accuracy: 0.8571 - val_loss: 0.4160 - val_accuracy: 0.8000\n",
      "Epoch 66/100\n",
      "2/2 [==============================] - 0s 32ms/step - loss: 0.3640 - accuracy: 0.8810 - val_loss: 0.4080 - val_accuracy: 0.8000\n",
      "Epoch 67/100\n",
      "2/2 [==============================] - 0s 32ms/step - loss: 0.3564 - accuracy: 0.8571 - val_loss: 0.4069 - val_accuracy: 0.8000\n",
      "Epoch 68/100\n",
      "2/2 [==============================] - 0s 31ms/step - loss: 0.3514 - accuracy: 0.8810 - val_loss: 0.3997 - val_accuracy: 0.8000\n",
      "Epoch 69/100\n",
      "2/2 [==============================] - 0s 31ms/step - loss: 0.3484 - accuracy: 0.8571 - val_loss: 0.3968 - val_accuracy: 0.8000\n",
      "Epoch 70/100\n",
      "2/2 [==============================] - 0s 32ms/step - loss: 0.3452 - accuracy: 0.8571 - val_loss: 0.3937 - val_accuracy: 0.8000\n",
      "Epoch 71/100\n",
      "2/2 [==============================] - 0s 38ms/step - loss: 0.3396 - accuracy: 0.8810 - val_loss: 0.3881 - val_accuracy: 0.8000\n",
      "Epoch 72/100\n",
      "2/2 [==============================] - 0s 33ms/step - loss: 0.3364 - accuracy: 0.8810 - val_loss: 0.3884 - val_accuracy: 0.8000\n",
      "Epoch 73/100\n",
      "2/2 [==============================] - 0s 33ms/step - loss: 0.3336 - accuracy: 0.8810 - val_loss: 0.3843 - val_accuracy: 0.8000\n",
      "Epoch 74/100\n",
      "2/2 [==============================] - 0s 28ms/step - loss: 0.3287 - accuracy: 0.9048 - val_loss: 0.3734 - val_accuracy: 0.8000\n",
      "Epoch 75/100\n",
      "2/2 [==============================] - 0s 31ms/step - loss: 0.3238 - accuracy: 0.8810 - val_loss: 0.3634 - val_accuracy: 0.8000\n",
      "Epoch 76/100\n",
      "2/2 [==============================] - 0s 30ms/step - loss: 0.3194 - accuracy: 0.8810 - val_loss: 0.3595 - val_accuracy: 0.8000\n",
      "Epoch 77/100\n",
      "2/2 [==============================] - 0s 38ms/step - loss: 0.3137 - accuracy: 0.8810 - val_loss: 0.3499 - val_accuracy: 0.8000\n",
      "Epoch 78/100\n",
      "2/2 [==============================] - 0s 30ms/step - loss: 0.3100 - accuracy: 0.8810 - val_loss: 0.3463 - val_accuracy: 0.8000\n",
      "Epoch 79/100\n",
      "2/2 [==============================] - 0s 31ms/step - loss: 0.3060 - accuracy: 0.8810 - val_loss: 0.3470 - val_accuracy: 0.8000\n",
      "Epoch 80/100\n",
      "2/2 [==============================] - 0s 33ms/step - loss: 0.2998 - accuracy: 0.8810 - val_loss: 0.3340 - val_accuracy: 0.8000\n",
      "Epoch 81/100\n",
      "2/2 [==============================] - 0s 34ms/step - loss: 0.2946 - accuracy: 0.8810 - val_loss: 0.3302 - val_accuracy: 0.8000\n",
      "Epoch 82/100\n",
      "2/2 [==============================] - 0s 32ms/step - loss: 0.2914 - accuracy: 0.8810 - val_loss: 0.3288 - val_accuracy: 0.8000\n",
      "Epoch 83/100\n",
      "2/2 [==============================] - 0s 33ms/step - loss: 0.2869 - accuracy: 0.8810 - val_loss: 0.3290 - val_accuracy: 0.8000\n",
      "Epoch 84/100\n",
      "2/2 [==============================] - 0s 31ms/step - loss: 0.2812 - accuracy: 0.9286 - val_loss: 0.3190 - val_accuracy: 0.8000\n",
      "Epoch 85/100\n",
      "2/2 [==============================] - 0s 32ms/step - loss: 0.2787 - accuracy: 0.8810 - val_loss: 0.3217 - val_accuracy: 0.9000\n",
      "Epoch 86/100\n",
      "2/2 [==============================] - 0s 35ms/step - loss: 0.2733 - accuracy: 0.9286 - val_loss: 0.3053 - val_accuracy: 0.8000\n",
      "Epoch 87/100\n",
      "2/2 [==============================] - 0s 34ms/step - loss: 0.2693 - accuracy: 0.9048 - val_loss: 0.3061 - val_accuracy: 0.8000\n",
      "Epoch 88/100\n",
      "2/2 [==============================] - 0s 33ms/step - loss: 0.2670 - accuracy: 0.9286 - val_loss: 0.2969 - val_accuracy: 0.9000\n",
      "Epoch 89/100\n",
      "2/2 [==============================] - 0s 30ms/step - loss: 0.2638 - accuracy: 0.8810 - val_loss: 0.2918 - val_accuracy: 0.8000\n",
      "Epoch 90/100\n",
      "2/2 [==============================] - 0s 33ms/step - loss: 0.2580 - accuracy: 0.9286 - val_loss: 0.2851 - val_accuracy: 0.9000\n",
      "Epoch 91/100\n",
      "2/2 [==============================] - 0s 30ms/step - loss: 0.2545 - accuracy: 0.9286 - val_loss: 0.2791 - val_accuracy: 0.8000\n",
      "Epoch 92/100\n",
      "2/2 [==============================] - 0s 31ms/step - loss: 0.2527 - accuracy: 0.9286 - val_loss: 0.2728 - val_accuracy: 0.9000\n",
      "Epoch 93/100\n",
      "2/2 [==============================] - 0s 32ms/step - loss: 0.2504 - accuracy: 0.9286 - val_loss: 0.2664 - val_accuracy: 0.9000\n",
      "Epoch 94/100\n",
      "2/2 [==============================] - 0s 32ms/step - loss: 0.2455 - accuracy: 0.9286 - val_loss: 0.2799 - val_accuracy: 0.9000\n",
      "Epoch 95/100\n",
      "2/2 [==============================] - 0s 31ms/step - loss: 0.2430 - accuracy: 0.9524 - val_loss: 0.2773 - val_accuracy: 0.9000\n",
      "Epoch 96/100\n",
      "2/2 [==============================] - 0s 34ms/step - loss: 0.2386 - accuracy: 0.9286 - val_loss: 0.2798 - val_accuracy: 0.9000\n",
      "Epoch 97/100\n",
      "2/2 [==============================] - 0s 34ms/step - loss: 0.2360 - accuracy: 0.9524 - val_loss: 0.2737 - val_accuracy: 0.9000\n",
      "Epoch 98/100\n",
      "2/2 [==============================] - 0s 31ms/step - loss: 0.2319 - accuracy: 0.9524 - val_loss: 0.2591 - val_accuracy: 0.9000\n",
      "Epoch 99/100\n",
      "2/2 [==============================] - 0s 33ms/step - loss: 0.2324 - accuracy: 0.9286 - val_loss: 0.2539 - val_accuracy: 0.9000\n",
      "Epoch 100/100\n",
      "2/2 [==============================] - 0s 33ms/step - loss: 0.2287 - accuracy: 0.9286 - val_loss: 0.2443 - val_accuracy: 1.0000\n",
      "1/1 [==============================] - 0s 29ms/step - loss: 0.2472 - accuracy: 0.9375\n",
      "Test loss: 0.24716229736804962\n",
      "Test accuracy: 0.9375\n"
     ]
    }
   ],
   "source": [
    "import numpy as np\n",
    "import tensorflow as tf\n",
    "\n",
    "# Split a portion of training data for validation\n",
    "validation_split = 0.2  # 20% of the training data will be used for validation\n",
    "num_samples = x_train.shape[0]\n",
    "num_validation_samples = int(validation_split * num_samples)\n",
    "\n",
    "x_val = x_train[:num_validation_samples]\n",
    "y_val = y_train[:num_validation_samples]\n",
    "\n",
    "x_train = x_train[num_validation_samples:]\n",
    "y_train = y_train[num_validation_samples:]\n",
    "\n",
    "# Define the ANN architecture\n",
    "model = tf.keras.Sequential([\n",
    "    tf.keras.layers.Dense(units=64, activation='relu', input_shape=(x_train.shape[1],)),\n",
    "    tf.keras.layers.Dense(units=64, activation='relu'),\n",
    "    tf.keras.layers.Dense(units=1, activation='sigmoid')\n",
    "])\n",
    "\n",
    "# Compile the model\n",
    "model.compile(optimizer='rmsprop', loss='binary_crossentropy', metrics=['accuracy'])\n",
    "\n",
    "# Train the model with validation data\n",
    "model.fit(x_train, y_train, epochs=100, batch_size=32, validation_data=(x_val, y_val))\n",
    "\n",
    "# Evaluate the model\n",
    "loss, accuracy = model.evaluate(x_test, y_test)\n",
    "print(f\"Test loss: {loss}\")\n",
    "print(f\"Test accuracy: {accuracy}\")\n"
   ]
  },
  {
   "cell_type": "code",
   "execution_count": 4,
   "id": "7efdbd24",
   "metadata": {},
   "outputs": [
    {
     "data": {
      "image/png": "[encoded data removed]",
      "text/plain": [
       "<Figure size 432x288 with 1 Axes>"
      ]
     },
     "metadata": {
      "needs_background": "light"
     },
     "output_type": "display_data"
    }
   ],
   "source": [
    "import matplotlib.pyplot as plt\n",
    "\n",
    "# Example data (replace these with your model names and accuracies)\n",
    "model_names = ['KNN', 'LR', 'ANN', 'XGB']\n",
    "accuracies = [0.8125, 0.875, 0.93, 0.94]\n",
    "\n",
    "# Plot the data\n",
    "plt.bar(model_names, accuracies)\n",
    "plt.xlabel('Model')\n",
    "plt.ylabel('Accuracy')\n",
    "plt.title('Comparison of Model Accuracies')\n",
    "plt.ylim(0, 1)  # Set the y-axis limit between 0 and 1 for accuracy values\n",
    "plt.show()\n"
   ]
  },
  {
   "cell_type": "code",
   "execution_count": null,
   "id": "27291576",
   "metadata": {},
   "outputs": [],
   "source": []
  }
 ],
 "metadata": {
  "kernelspec": {
   "display_name": "Python 3 (ipykernel)",
   "language": "python",
   "name": "python3"
  },
  "language_info": {
   "codemirror_mode": {
    "name": "ipython",
    "version": 3
   },
   "file_extension": ".py",
   "mimetype": "text/x-python",
   "name": "python",
   "nbconvert_exporter": "python",
   "pygments_lexer": "ipython3",
   "version": "3.9.7"
  }
 },
 "nbformat": 4,
 "nbformat_minor": 5
}
